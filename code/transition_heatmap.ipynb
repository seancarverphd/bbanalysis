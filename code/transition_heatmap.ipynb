{
 "cells": [
  {
   "cell_type": "code",
   "execution_count": 18,
   "metadata": {},
   "outputs": [],
   "source": [
    "import numpy as np\n",
    "import pandas as pd\n",
    "import matplotlib\n",
    "import matplotlib.pyplot as plt\n",
    "import mysql.connector as mariadb"
   ]
  },
  {
   "cell_type": "code",
   "execution_count": 19,
   "metadata": {},
   "outputs": [],
   "source": [
    "mariadb_connection = mariadb.connect(user='baseball', password='', database='retrosheet')"
   ]
  },
  {
   "cell_type": "code",
   "execution_count": 20,
   "metadata": {},
   "outputs": [],
   "source": [
    "def list_bases():\n",
    "    return(['0','1','2','3','12','13','23','123'])\n",
    "\n",
    "def list_transient_outs():\n",
    "    return(['','X','XX'])\n",
    "\n",
    "def list_transient_states():\n",
    "    states = []\n",
    "    for o in list_transient_outs():\n",
    "        for b in list_bases():\n",
    "            states.append(b+o)\n",
    "    return(states)\n",
    "\n",
    "def list_from_states():\n",
    "    from_states = []\n",
    "    for s in list_transient_states():\n",
    "        from_states.append(s+':')\n",
    "    return(from_states)\n",
    "\n",
    "def list_to_states():\n",
    "    to_states = []\n",
    "    for s in list_transient_states():\n",
    "        to_states.append(':'+s)\n",
    "    to_states.append(':XXX')\n",
    "    return(to_states)"
   ]
  },
  {
   "cell_type": "code",
   "execution_count": null,
   "metadata": {},
   "outputs": [],
   "source": []
  }
 ],
 "metadata": {
  "kernelspec": {
   "display_name": "Python 3",
   "language": "python",
   "name": "python3"
  },
  "language_info": {
   "codemirror_mode": {
    "name": "ipython",
    "version": 3
   },
   "file_extension": ".py",
   "mimetype": "text/x-python",
   "name": "python",
   "nbconvert_exporter": "python",
   "pygments_lexer": "ipython3",
   "version": "3.7.3"
  }
 },
 "nbformat": 4,
 "nbformat_minor": 2
}
