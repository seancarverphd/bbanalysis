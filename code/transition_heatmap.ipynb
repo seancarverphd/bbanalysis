{
 "cells": [
  {
   "cell_type": "code",
   "execution_count": 68,
   "metadata": {},
   "outputs": [],
   "source": [
    "import numpy as np\n",
    "import pandas as pd\n",
    "import re\n",
    "import matplotlib\n",
    "import matplotlib.pyplot as plt\n",
    "import mysql.connector as mariadb"
   ]
  },
  {
   "cell_type": "code",
   "execution_count": 69,
   "metadata": {},
   "outputs": [],
   "source": [
    "mariadb_connection = mariadb.connect(user='baseball', password='', database='retrosheet')\n",
    "cursor = mariadb_connection.cursor()\n",
    "cursor.execute(\"SELECT * FROM transitions;\")\n",
    "transitions = pd.DataFrame(cursor.fetchall())\n",
    "transitions.columns = [x[0] for x in cursor.description]\n",
    "#transitions.set_index('transition', inplace=True)"
   ]
  },
  {
   "cell_type": "code",
   "execution_count": 70,
   "metadata": {},
   "outputs": [],
   "source": [
    "def list_bases():\n",
    "    return(['0','1','2','3','12','13','23','123'])\n",
    "\n",
    "def list_transient_outs():\n",
    "    return(['','X','XX'])\n",
    "\n",
    "def list_transient_states():\n",
    "    states = []\n",
    "    for o in list_transient_outs():\n",
    "        for b in list_bases():\n",
    "            states.append(b+o)\n",
    "    return(states)\n",
    "\n",
    "def list_from_states():\n",
    "    from_states = []\n",
    "    for s in list_transient_states():\n",
    "        from_states.append(s+':')\n",
    "    return(from_states)\n",
    "\n",
    "def list_to_states():\n",
    "    to_states = []\n",
    "    for s in list_transient_states():\n",
    "        to_states.append(':'+s)\n",
    "    to_states.append(':XXX')\n",
    "    return(to_states)\n",
    "\n",
    "def list_conceivables():\n",
    "    conceivables = []\n",
    "    for s0 in list_transient_states():\n",
    "        for s1 in list_to_states():\n",
    "            conceivables.append(s0+s1)\n",
    "    return(conceivables)"
   ]
  },
  {
   "cell_type": "code",
   "execution_count": 71,
   "metadata": {},
   "outputs": [],
   "source": [
    "df = pd.DataFrame(np.zeros((24,25)))\n",
    "df.index = list_from_states()\n",
    "df.columns = list_to_states()"
   ]
  },
  {
   "cell_type": "code",
   "execution_count": 86,
   "metadata": {},
   "outputs": [],
   "source": [
    "for i in range(len(transitions)):\n",
    "    t = transitions.iloc[i,:].transition\n",
    "    old = re.search('^[0-3X]*:', t).group()\n",
    "    new = re.search(':[0-3X]*$', t).group()\n",
    "    u = transitions.iloc[i,:].u_conditional\n",
    "    df.loc[old,new] = u"
   ]
  },
  {
   "cell_type": "code",
   "execution_count": 90,
   "metadata": {},
   "outputs": [
    {
     "data": {
      "text/html": [
       "<div>\n",
       "<style scoped>\n",
       "    .dataframe tbody tr th:only-of-type {\n",
       "        vertical-align: middle;\n",
       "    }\n",
       "\n",
       "    .dataframe tbody tr th {\n",
       "        vertical-align: top;\n",
       "    }\n",
       "\n",
       "    .dataframe thead th {\n",
       "        text-align: right;\n",
       "    }\n",
       "</style>\n",
       "<table border=\"1\" class=\"dataframe\">\n",
       "  <thead>\n",
       "    <tr style=\"text-align: right;\">\n",
       "      <th></th>\n",
       "      <th>:0</th>\n",
       "      <th>:1</th>\n",
       "      <th>:2</th>\n",
       "      <th>:3</th>\n",
       "      <th>:12</th>\n",
       "      <th>:13</th>\n",
       "      <th>:23</th>\n",
       "      <th>:123</th>\n",
       "    </tr>\n",
       "  </thead>\n",
       "  <tbody>\n",
       "    <tr>\n",
       "      <th>0:</th>\n",
       "      <td>1.608851</td>\n",
       "      <td>0.596269</td>\n",
       "      <td>1.332662</td>\n",
       "      <td>2.149816</td>\n",
       "      <td>0.000000</td>\n",
       "      <td>0.000000</td>\n",
       "      <td>0.000000</td>\n",
       "      <td>0.000000</td>\n",
       "    </tr>\n",
       "    <tr>\n",
       "      <th>1:</th>\n",
       "      <td>1.657488</td>\n",
       "      <td>3.574625</td>\n",
       "      <td>1.902425</td>\n",
       "      <td>2.146831</td>\n",
       "      <td>0.707327</td>\n",
       "      <td>1.312909</td>\n",
       "      <td>1.485540</td>\n",
       "      <td>0.000000</td>\n",
       "    </tr>\n",
       "    <tr>\n",
       "      <th>2:</th>\n",
       "      <td>1.755221</td>\n",
       "      <td>1.263370</td>\n",
       "      <td>1.360083</td>\n",
       "      <td>2.139716</td>\n",
       "      <td>0.997421</td>\n",
       "      <td>1.022882</td>\n",
       "      <td>2.277203</td>\n",
       "      <td>0.000000</td>\n",
       "    </tr>\n",
       "    <tr>\n",
       "      <th>3:</th>\n",
       "      <td>1.740078</td>\n",
       "      <td>0.770407</td>\n",
       "      <td>1.330272</td>\n",
       "      <td>2.016552</td>\n",
       "      <td>0.000000</td>\n",
       "      <td>0.941847</td>\n",
       "      <td>3.820464</td>\n",
       "      <td>0.000000</td>\n",
       "    </tr>\n",
       "    <tr>\n",
       "      <th>12:</th>\n",
       "      <td>1.659234</td>\n",
       "      <td>3.411522</td>\n",
       "      <td>1.909351</td>\n",
       "      <td>2.153619</td>\n",
       "      <td>1.331776</td>\n",
       "      <td>1.494986</td>\n",
       "      <td>1.470913</td>\n",
       "      <td>0.794981</td>\n",
       "    </tr>\n",
       "    <tr>\n",
       "      <th>13:</th>\n",
       "      <td>1.643308</td>\n",
       "      <td>3.373398</td>\n",
       "      <td>1.918009</td>\n",
       "      <td>2.139315</td>\n",
       "      <td>0.859135</td>\n",
       "      <td>1.301648</td>\n",
       "      <td>1.422095</td>\n",
       "      <td>1.098169</td>\n",
       "    </tr>\n",
       "    <tr>\n",
       "      <th>23:</th>\n",
       "      <td>1.722638</td>\n",
       "      <td>1.230769</td>\n",
       "      <td>1.317999</td>\n",
       "      <td>2.056372</td>\n",
       "      <td>2.141908</td>\n",
       "      <td>1.097704</td>\n",
       "      <td>2.120297</td>\n",
       "      <td>0.814584</td>\n",
       "    </tr>\n",
       "    <tr>\n",
       "      <th>123:</th>\n",
       "      <td>1.612853</td>\n",
       "      <td>3.943267</td>\n",
       "      <td>1.915510</td>\n",
       "      <td>2.113320</td>\n",
       "      <td>1.255203</td>\n",
       "      <td>1.463260</td>\n",
       "      <td>1.394264</td>\n",
       "      <td>0.788235</td>\n",
       "    </tr>\n",
       "  </tbody>\n",
       "</table>\n",
       "</div>"
      ],
      "text/plain": [
       "            :0        :1        :2        :3       :12       :13       :23  \\\n",
       "0:    1.608851  0.596269  1.332662  2.149816  0.000000  0.000000  0.000000   \n",
       "1:    1.657488  3.574625  1.902425  2.146831  0.707327  1.312909  1.485540   \n",
       "2:    1.755221  1.263370  1.360083  2.139716  0.997421  1.022882  2.277203   \n",
       "3:    1.740078  0.770407  1.330272  2.016552  0.000000  0.941847  3.820464   \n",
       "12:   1.659234  3.411522  1.909351  2.153619  1.331776  1.494986  1.470913   \n",
       "13:   1.643308  3.373398  1.918009  2.139315  0.859135  1.301648  1.422095   \n",
       "23:   1.722638  1.230769  1.317999  2.056372  2.141908  1.097704  2.120297   \n",
       "123:  1.612853  3.943267  1.915510  2.113320  1.255203  1.463260  1.394264   \n",
       "\n",
       "          :123  \n",
       "0:    0.000000  \n",
       "1:    0.000000  \n",
       "2:    0.000000  \n",
       "3:    0.000000  \n",
       "12:   0.794981  \n",
       "13:   1.098169  \n",
       "23:   0.814584  \n",
       "123:  0.788235  "
      ]
     },
     "execution_count": 90,
     "metadata": {},
     "output_type": "execute_result"
    }
   ],
   "source": [
    "df.iloc[0:8,0:8]"
   ]
  },
  {
   "cell_type": "code",
   "execution_count": 93,
   "metadata": {},
   "outputs": [
    {
     "data": {
      "image/png": "[encoded data removed]",
      "text/plain": [
       "<Figure size 432x288 with 1 Axes>"
      ]
     },
     "metadata": {
      "needs_background": "light"
     },
     "output_type": "display_data"
    }
   ],
   "source": [
    "fig, ax = plt.subplots()\n",
    "im = plt.imshow(np.array(df))"
   ]
  },
  {
   "cell_type": "code",
   "execution_count": 79,
   "metadata": {},
   "outputs": [
    {
     "data": {
      "text/plain": [
       "'12XX:'"
      ]
     },
     "execution_count": 79,
     "metadata": {},
     "output_type": "execute_result"
    }
   ],
   "source": [
    "re.search('^[0-3X]*:','12XX:XXX').group()"
   ]
  },
  {
   "cell_type": "code",
   "execution_count": 82,
   "metadata": {},
   "outputs": [
    {
     "data": {
      "text/plain": [
       "':123XX'"
      ]
     },
     "execution_count": 82,
     "metadata": {},
     "output_type": "execute_result"
    }
   ],
   "source": [
    "re.search(':[0-3X]*$','12XX:123XX').group()"
   ]
  },
  {
   "cell_type": "code",
   "execution_count": null,
   "metadata": {},
   "outputs": [],
   "source": []
  }
 ],
 "metadata": {
  "kernelspec": {
   "display_name": "Python 3",
   "language": "python",
   "name": "python3"
  },
  "language_info": {
   "codemirror_mode": {
    "name": "ipython",
    "version": 3
   },
   "file_extension": ".py",
   "mimetype": "text/x-python",
   "name": "python",
   "nbconvert_exporter": "python",
   "pygments_lexer": "ipython3",
   "version": "3.7.3"
  }
 },
 "nbformat": 4,
 "nbformat_minor": 2
}
